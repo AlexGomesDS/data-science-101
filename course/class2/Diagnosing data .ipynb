{
 "cells": [
  {
   "cell_type": "markdown",
   "metadata": {},
   "source": [
    "# Diagnosing the data issues:"
   ]
  },
  {
   "cell_type": "code",
   "execution_count": 1,
   "metadata": {
    "collapsed": true
   },
   "outputs": [],
   "source": [
    "import pandas as pd \n",
    "import numpy as np \n",
    "% matplotlib inline\n",
    "from numpy.random import normal\n",
    "from numpy.random import exponential\n",
    "from numpy.random import choice\n",
    "from matplotlib import pyplot as plt "
   ]
  },
  {
   "cell_type": "code",
   "execution_count": 2,
   "metadata": {
    "collapsed": true
   },
   "outputs": [],
   "source": [
    "def plot_standard_deviations(data, label):\n",
    "    ax = data.hist(bins=40, figsize=(16,4))\n",
    "\n",
    "    ax.axvspan(data.mean() - data.std(), \n",
    "               data.mean() + data.std(), \n",
    "               alpha=0.4, \n",
    "               color='green')\n",
    "\n",
    "    ax.axvspan(data.mean() - 2*data.std(), \n",
    "               data.mean() + 2*data.std(), \n",
    "               alpha=0.3, \n",
    "               color='yellow')\n",
    "\n",
    "\n",
    "    ax.axvspan(data.mean() - 3*data.std(), \n",
    "               data.mean() + 3*data.std(), \n",
    "               alpha=0.2, \n",
    "               color='red')\n",
    "    \n",
    "    plt.xlabel(label)\n",
    "    plt.ylabel('Count')\n",
    "    plt.ylabel('Number of observations')"
   ]
  },
  {
   "cell_type": "code",
   "execution_count": 3,
   "metadata": {
    "collapsed": true
   },
   "outputs": [],
   "source": [
    "def print_analysis(series):\n",
    "    for nr in range(1, 4):\n",
    "        \n",
    "        upper_limit = series.mean() + (nr * series.std())\n",
    "        lower_limit = series.mean() - (nr * series.std())\n",
    "        \n",
    "        in_range = (series < upper_limit) & (series > lower_limit)\n",
    "        percent_in_range = in_range.sum() / len(series)\n",
    "        \n",
    "        print('%0.5f%% of the dataset is under %0.0f SDs from the mean (%0.0f)' %(\n",
    "                percent_in_range*100, nr, upper_limit))"
   ]
  },
  {
   "cell_type": "markdown",
   "metadata": {},
   "source": [
    "# The data you'll be exloring:"
   ]
  },
  {
   "cell_type": "code",
   "execution_count": 4,
   "metadata": {
    "collapsed": false
   },
   "outputs": [],
   "source": [
    "data = pd.read_csv('data/all_data.csv', index_col=0)"
   ]
  },
  {
   "cell_type": "code",
   "execution_count": 5,
   "metadata": {
    "collapsed": false
   },
   "outputs": [
    {
     "data": {
      "text/html": [
       "<div>\n",
       "<table border=\"1\" class=\"dataframe\">\n",
       "  <thead>\n",
       "    <tr style=\"text-align: right;\">\n",
       "      <th></th>\n",
       "      <th>age</th>\n",
       "      <th>height</th>\n",
       "      <th>gender</th>\n",
       "    </tr>\n",
       "  </thead>\n",
       "  <tbody>\n",
       "    <tr>\n",
       "      <th>CFLOXRHMDR</th>\n",
       "      <td>88.0</td>\n",
       "      <td>163.0</td>\n",
       "      <td>female</td>\n",
       "    </tr>\n",
       "    <tr>\n",
       "      <th>FXLJSNLSOG</th>\n",
       "      <td>29.0</td>\n",
       "      <td>158.0</td>\n",
       "      <td>female</td>\n",
       "    </tr>\n",
       "    <tr>\n",
       "      <th>FWDIVJKGOI</th>\n",
       "      <td>42.0</td>\n",
       "      <td>159.0</td>\n",
       "      <td>female</td>\n",
       "    </tr>\n",
       "    <tr>\n",
       "      <th>YWEBKQWHRE</th>\n",
       "      <td>25.0</td>\n",
       "      <td>179.0</td>\n",
       "      <td>male</td>\n",
       "    </tr>\n",
       "    <tr>\n",
       "      <th>YPUQAPSOYJ</th>\n",
       "      <td>32.0</td>\n",
       "      <td>169.0</td>\n",
       "      <td>male</td>\n",
       "    </tr>\n",
       "    <tr>\n",
       "      <th>YPUQAPSOYJ</th>\n",
       "      <td>32.0</td>\n",
       "      <td>169.0</td>\n",
       "      <td>male</td>\n",
       "    </tr>\n",
       "    <tr>\n",
       "      <th>YPUQAPSOYJ</th>\n",
       "      <td>32.0</td>\n",
       "      <td>169.0</td>\n",
       "      <td>male</td>\n",
       "    </tr>\n",
       "    <tr>\n",
       "      <th>YPUQAPSOYJ</th>\n",
       "      <td>32.0</td>\n",
       "      <td>169.0</td>\n",
       "      <td>male</td>\n",
       "    </tr>\n",
       "    <tr>\n",
       "      <th>SSZQEGTLNK</th>\n",
       "      <td>NaN</td>\n",
       "      <td>162.0</td>\n",
       "      <td>male</td>\n",
       "    </tr>\n",
       "    <tr>\n",
       "      <th>PRFEFXNGWN</th>\n",
       "      <td>36.0</td>\n",
       "      <td>166.0</td>\n",
       "      <td>female</td>\n",
       "    </tr>\n",
       "  </tbody>\n",
       "</table>\n",
       "</div>"
      ],
      "text/plain": [
       "             age  height  gender\n",
       "CFLOXRHMDR  88.0   163.0  female\n",
       "FXLJSNLSOG  29.0   158.0  female\n",
       "FWDIVJKGOI  42.0   159.0  female\n",
       "YWEBKQWHRE  25.0   179.0    male\n",
       "YPUQAPSOYJ  32.0   169.0    male\n",
       "YPUQAPSOYJ  32.0   169.0    male\n",
       "YPUQAPSOYJ  32.0   169.0    male\n",
       "YPUQAPSOYJ  32.0   169.0    male\n",
       "SSZQEGTLNK   NaN   162.0    male\n",
       "PRFEFXNGWN  36.0   166.0  female"
      ]
     },
     "execution_count": 5,
     "metadata": {},
     "output_type": "execute_result"
    }
   ],
   "source": [
    "data.head(10)"
   ]
  },
  {
   "cell_type": "markdown",
   "metadata": {},
   "source": [
    "### Duplicated data: "
   ]
  },
  {
   "cell_type": "markdown",
   "metadata": {},
   "source": [
    "We seem to have a problem with some duplicated data: "
   ]
  },
  {
   "cell_type": "code",
   "execution_count": 6,
   "metadata": {
    "collapsed": false
   },
   "outputs": [],
   "source": [
    "data.drop_duplicates(inplace=True)"
   ]
  },
  {
   "cell_type": "code",
   "execution_count": 7,
   "metadata": {
    "collapsed": false
   },
   "outputs": [
    {
     "data": {
      "text/html": [
       "<div>\n",
       "<table border=\"1\" class=\"dataframe\">\n",
       "  <thead>\n",
       "    <tr style=\"text-align: right;\">\n",
       "      <th></th>\n",
       "      <th>age</th>\n",
       "      <th>height</th>\n",
       "      <th>gender</th>\n",
       "    </tr>\n",
       "  </thead>\n",
       "  <tbody>\n",
       "    <tr>\n",
       "      <th>CFLOXRHMDR</th>\n",
       "      <td>88.0</td>\n",
       "      <td>163.0</td>\n",
       "      <td>female</td>\n",
       "    </tr>\n",
       "    <tr>\n",
       "      <th>FXLJSNLSOG</th>\n",
       "      <td>29.0</td>\n",
       "      <td>158.0</td>\n",
       "      <td>female</td>\n",
       "    </tr>\n",
       "    <tr>\n",
       "      <th>FWDIVJKGOI</th>\n",
       "      <td>42.0</td>\n",
       "      <td>159.0</td>\n",
       "      <td>female</td>\n",
       "    </tr>\n",
       "    <tr>\n",
       "      <th>YWEBKQWHRE</th>\n",
       "      <td>25.0</td>\n",
       "      <td>179.0</td>\n",
       "      <td>male</td>\n",
       "    </tr>\n",
       "    <tr>\n",
       "      <th>YPUQAPSOYJ</th>\n",
       "      <td>32.0</td>\n",
       "      <td>169.0</td>\n",
       "      <td>male</td>\n",
       "    </tr>\n",
       "    <tr>\n",
       "      <th>SSZQEGTLNK</th>\n",
       "      <td>NaN</td>\n",
       "      <td>162.0</td>\n",
       "      <td>male</td>\n",
       "    </tr>\n",
       "    <tr>\n",
       "      <th>PRFEFXNGWN</th>\n",
       "      <td>36.0</td>\n",
       "      <td>166.0</td>\n",
       "      <td>female</td>\n",
       "    </tr>\n",
       "    <tr>\n",
       "      <th>IIVXDNOAIV</th>\n",
       "      <td>1.0</td>\n",
       "      <td>165.0</td>\n",
       "      <td>female</td>\n",
       "    </tr>\n",
       "    <tr>\n",
       "      <th>VVQYVNRAGQ</th>\n",
       "      <td>18.0</td>\n",
       "      <td>134.0</td>\n",
       "      <td>female</td>\n",
       "    </tr>\n",
       "    <tr>\n",
       "      <th>YVEDWPTEEB</th>\n",
       "      <td>31.0</td>\n",
       "      <td>149.0</td>\n",
       "      <td>female</td>\n",
       "    </tr>\n",
       "  </tbody>\n",
       "</table>\n",
       "</div>"
      ],
      "text/plain": [
       "             age  height  gender\n",
       "CFLOXRHMDR  88.0   163.0  female\n",
       "FXLJSNLSOG  29.0   158.0  female\n",
       "FWDIVJKGOI  42.0   159.0  female\n",
       "YWEBKQWHRE  25.0   179.0    male\n",
       "YPUQAPSOYJ  32.0   169.0    male\n",
       "SSZQEGTLNK   NaN   162.0    male\n",
       "PRFEFXNGWN  36.0   166.0  female\n",
       "IIVXDNOAIV   1.0   165.0  female\n",
       "VVQYVNRAGQ  18.0   134.0  female\n",
       "YVEDWPTEEB  31.0   149.0  female"
      ]
     },
     "execution_count": 7,
     "metadata": {},
     "output_type": "execute_result"
    }
   ],
   "source": [
    "data.head(10)"
   ]
  },
  {
   "cell_type": "markdown",
   "metadata": {},
   "source": [
    "## Missing data: "
   ]
  },
  {
   "cell_type": "code",
   "execution_count": 8,
   "metadata": {
    "collapsed": true
   },
   "outputs": [],
   "source": [
    "heights = data['height']\n",
    "ages = data['age']\n",
    "gender = data['gender']"
   ]
  },
  {
   "cell_type": "markdown",
   "metadata": {},
   "source": [
    "##### How much missing data do we have for heights? "
   ]
  },
  {
   "cell_type": "code",
   "execution_count": 9,
   "metadata": {
    "collapsed": false
   },
   "outputs": [],
   "source": [
    "missing_height = heights.isnull()"
   ]
  },
  {
   "cell_type": "code",
   "execution_count": 10,
   "metadata": {
    "collapsed": false
   },
   "outputs": [
    {
     "data": {
      "text/plain": [
       "CFLOXRHMDR    False\n",
       "FXLJSNLSOG    False\n",
       "FWDIVJKGOI    False\n",
       "YWEBKQWHRE    False\n",
       "YPUQAPSOYJ    False\n",
       "Name: height, dtype: bool"
      ]
     },
     "execution_count": 10,
     "metadata": {},
     "output_type": "execute_result"
    }
   ],
   "source": [
    "missing_height.head()"
   ]
  },
  {
   "cell_type": "code",
   "execution_count": 11,
   "metadata": {
    "collapsed": false
   },
   "outputs": [
    {
     "data": {
      "text/plain": [
       "4"
      ]
     },
     "execution_count": 11,
     "metadata": {},
     "output_type": "execute_result"
    }
   ],
   "source": [
    "missing_height.sum()"
   ]
  },
  {
   "cell_type": "code",
   "execution_count": 12,
   "metadata": {
    "collapsed": false
   },
   "outputs": [
    {
     "data": {
      "text/html": [
       "<div>\n",
       "<table border=\"1\" class=\"dataframe\">\n",
       "  <thead>\n",
       "    <tr style=\"text-align: right;\">\n",
       "      <th></th>\n",
       "      <th>age</th>\n",
       "      <th>height</th>\n",
       "      <th>gender</th>\n",
       "    </tr>\n",
       "  </thead>\n",
       "  <tbody>\n",
       "    <tr>\n",
       "      <th>CWCFROPRFE</th>\n",
       "      <td>22.0</td>\n",
       "      <td>NaN</td>\n",
       "      <td>male</td>\n",
       "    </tr>\n",
       "    <tr>\n",
       "      <th>EORSIPDIHA</th>\n",
       "      <td>21.0</td>\n",
       "      <td>NaN</td>\n",
       "      <td>MALE</td>\n",
       "    </tr>\n",
       "    <tr>\n",
       "      <th>NGJOHICWSY</th>\n",
       "      <td>41.0</td>\n",
       "      <td>NaN</td>\n",
       "      <td>male</td>\n",
       "    </tr>\n",
       "    <tr>\n",
       "      <th>LNLAPFIJEQ</th>\n",
       "      <td>37.0</td>\n",
       "      <td>NaN</td>\n",
       "      <td>male</td>\n",
       "    </tr>\n",
       "  </tbody>\n",
       "</table>\n",
       "</div>"
      ],
      "text/plain": [
       "             age  height gender\n",
       "CWCFROPRFE  22.0     NaN   male\n",
       "EORSIPDIHA  21.0     NaN   MALE\n",
       "NGJOHICWSY  41.0     NaN   male\n",
       "LNLAPFIJEQ  37.0     NaN   male"
      ]
     },
     "execution_count": 12,
     "metadata": {},
     "output_type": "execute_result"
    }
   ],
   "source": [
    "data[missing_height]"
   ]
  },
  {
   "cell_type": "markdown",
   "metadata": {},
   "source": [
    "##### How about age? "
   ]
  },
  {
   "cell_type": "code",
   "execution_count": 13,
   "metadata": {
    "collapsed": false
   },
   "outputs": [],
   "source": [
    "missing_ages = ages.isnull()"
   ]
  },
  {
   "cell_type": "code",
   "execution_count": 14,
   "metadata": {
    "collapsed": false
   },
   "outputs": [
    {
     "data": {
      "text/html": [
       "<div>\n",
       "<table border=\"1\" class=\"dataframe\">\n",
       "  <thead>\n",
       "    <tr style=\"text-align: right;\">\n",
       "      <th></th>\n",
       "      <th>age</th>\n",
       "      <th>height</th>\n",
       "      <th>gender</th>\n",
       "    </tr>\n",
       "  </thead>\n",
       "  <tbody>\n",
       "    <tr>\n",
       "      <th>SSZQEGTLNK</th>\n",
       "      <td>NaN</td>\n",
       "      <td>162.0</td>\n",
       "      <td>male</td>\n",
       "    </tr>\n",
       "    <tr>\n",
       "      <th>TJQPFEFVVH</th>\n",
       "      <td>NaN</td>\n",
       "      <td>182.0</td>\n",
       "      <td>NaN</td>\n",
       "    </tr>\n",
       "    <tr>\n",
       "      <th>PYHWLDVICX</th>\n",
       "      <td>NaN</td>\n",
       "      <td>181.0</td>\n",
       "      <td>female</td>\n",
       "    </tr>\n",
       "    <tr>\n",
       "      <th>MLRPKGKACD</th>\n",
       "      <td>NaN</td>\n",
       "      <td>185.0</td>\n",
       "      <td>male</td>\n",
       "    </tr>\n",
       "    <tr>\n",
       "      <th>SGMGUJEBNC</th>\n",
       "      <td>NaN</td>\n",
       "      <td>173.0</td>\n",
       "      <td>MALE</td>\n",
       "    </tr>\n",
       "    <tr>\n",
       "      <th>YZDOYNOXAF</th>\n",
       "      <td>NaN</td>\n",
       "      <td>144.0</td>\n",
       "      <td>female</td>\n",
       "    </tr>\n",
       "    <tr>\n",
       "      <th>UAOAMGUQSX</th>\n",
       "      <td>NaN</td>\n",
       "      <td>144.0</td>\n",
       "      <td>male</td>\n",
       "    </tr>\n",
       "    <tr>\n",
       "      <th>JFVZOEGUUA</th>\n",
       "      <td>NaN</td>\n",
       "      <td>208.0</td>\n",
       "      <td>female</td>\n",
       "    </tr>\n",
       "    <tr>\n",
       "      <th>VYAQBLJKXJ</th>\n",
       "      <td>NaN</td>\n",
       "      <td>165.0</td>\n",
       "      <td>male</td>\n",
       "    </tr>\n",
       "  </tbody>\n",
       "</table>\n",
       "</div>"
      ],
      "text/plain": [
       "            age  height  gender\n",
       "SSZQEGTLNK  NaN   162.0    male\n",
       "TJQPFEFVVH  NaN   182.0     NaN\n",
       "PYHWLDVICX  NaN   181.0  female\n",
       "MLRPKGKACD  NaN   185.0    male\n",
       "SGMGUJEBNC  NaN   173.0    MALE\n",
       "YZDOYNOXAF  NaN   144.0  female\n",
       "UAOAMGUQSX  NaN   144.0    male\n",
       "JFVZOEGUUA  NaN   208.0  female\n",
       "VYAQBLJKXJ  NaN   165.0    male"
      ]
     },
     "execution_count": 14,
     "metadata": {},
     "output_type": "execute_result"
    }
   ],
   "source": [
    "data[missing_ages]"
   ]
  },
  {
   "cell_type": "markdown",
   "metadata": {},
   "source": [
    "##### And gender? "
   ]
  },
  {
   "cell_type": "code",
   "execution_count": 15,
   "metadata": {
    "collapsed": false
   },
   "outputs": [
    {
     "data": {
      "text/plain": [
       "female    111\n",
       "male       65\n",
       "MALE        9\n",
       "NaN         9\n",
       "Name: gender, dtype: int64"
      ]
     },
     "execution_count": 15,
     "metadata": {},
     "output_type": "execute_result"
    }
   ],
   "source": [
    "gender.value_counts(dropna=False)"
   ]
  },
  {
   "cell_type": "code",
   "execution_count": 16,
   "metadata": {
    "collapsed": false
   },
   "outputs": [
    {
     "data": {
      "text/html": [
       "<div>\n",
       "<table border=\"1\" class=\"dataframe\">\n",
       "  <thead>\n",
       "    <tr style=\"text-align: right;\">\n",
       "      <th></th>\n",
       "      <th>age</th>\n",
       "      <th>height</th>\n",
       "      <th>gender</th>\n",
       "    </tr>\n",
       "  </thead>\n",
       "  <tbody>\n",
       "    <tr>\n",
       "      <th>TJQPFEFVVH</th>\n",
       "      <td>NaN</td>\n",
       "      <td>182.0</td>\n",
       "      <td>NaN</td>\n",
       "    </tr>\n",
       "    <tr>\n",
       "      <th>QXUGUHCOPT</th>\n",
       "      <td>101.0</td>\n",
       "      <td>196.0</td>\n",
       "      <td>NaN</td>\n",
       "    </tr>\n",
       "    <tr>\n",
       "      <th>LKEHZFGGTS</th>\n",
       "      <td>49.0</td>\n",
       "      <td>177.0</td>\n",
       "      <td>NaN</td>\n",
       "    </tr>\n",
       "    <tr>\n",
       "      <th>EBTRPEDHJS</th>\n",
       "      <td>43.0</td>\n",
       "      <td>147.0</td>\n",
       "      <td>NaN</td>\n",
       "    </tr>\n",
       "    <tr>\n",
       "      <th>BDFQWIHWCH</th>\n",
       "      <td>27.0</td>\n",
       "      <td>167.0</td>\n",
       "      <td>NaN</td>\n",
       "    </tr>\n",
       "    <tr>\n",
       "      <th>NUCCGRJLXN</th>\n",
       "      <td>20.0</td>\n",
       "      <td>159.0</td>\n",
       "      <td>NaN</td>\n",
       "    </tr>\n",
       "    <tr>\n",
       "      <th>GQSNBZIGBL</th>\n",
       "      <td>27.0</td>\n",
       "      <td>197.0</td>\n",
       "      <td>NaN</td>\n",
       "    </tr>\n",
       "    <tr>\n",
       "      <th>KWJJMPVSCP</th>\n",
       "      <td>24.0</td>\n",
       "      <td>189.0</td>\n",
       "      <td>NaN</td>\n",
       "    </tr>\n",
       "    <tr>\n",
       "      <th>LMZUTCGFYT</th>\n",
       "      <td>21.0</td>\n",
       "      <td>153.0</td>\n",
       "      <td>NaN</td>\n",
       "    </tr>\n",
       "  </tbody>\n",
       "</table>\n",
       "</div>"
      ],
      "text/plain": [
       "              age  height gender\n",
       "TJQPFEFVVH    NaN   182.0    NaN\n",
       "QXUGUHCOPT  101.0   196.0    NaN\n",
       "LKEHZFGGTS   49.0   177.0    NaN\n",
       "EBTRPEDHJS   43.0   147.0    NaN\n",
       "BDFQWIHWCH   27.0   167.0    NaN\n",
       "NUCCGRJLXN   20.0   159.0    NaN\n",
       "GQSNBZIGBL   27.0   197.0    NaN\n",
       "KWJJMPVSCP   24.0   189.0    NaN\n",
       "LMZUTCGFYT   21.0   153.0    NaN"
      ]
     },
     "execution_count": 16,
     "metadata": {},
     "output_type": "execute_result"
    }
   ],
   "source": [
    "missing_gender = data['gender'].isnull()\n",
    "data[missing_gender]"
   ]
  },
  {
   "cell_type": "markdown",
   "metadata": {},
   "source": [
    "But wait, we have another problem. We seem to have `male` and `MALE`:"
   ]
  },
  {
   "cell_type": "code",
   "execution_count": 17,
   "metadata": {
    "collapsed": false
   },
   "outputs": [
    {
     "data": {
      "text/plain": [
       "<matplotlib.axes._subplots.AxesSubplot at 0x106fb0f28>"
      ]
     },
     "execution_count": 17,
     "metadata": {},
     "output_type": "execute_result"
    },
    {
     "data": {
      "image/png": "[encoded data removed]",
      "text/plain": [
       "<matplotlib.figure.Figure at 0x106fb0208>"
      ]
     },
     "metadata": {},
     "output_type": "display_data"
    }
   ],
   "source": [
    "gender.value_counts(dropna=False).plot(kind='bar', rot=0)"
   ]
  },
  {
   "cell_type": "markdown",
   "metadata": {},
   "source": [
    "## Outliers: "
   ]
  },
  {
   "cell_type": "markdown",
   "metadata": {},
   "source": [
    "#### What is the distribution of the heights? "
   ]
  },
  {
   "cell_type": "code",
   "execution_count": 18,
   "metadata": {
    "collapsed": false,
    "scrolled": false
   },
   "outputs": [
    {
     "data": {
      "text/plain": [
       "<matplotlib.text.Text at 0x10721d048>"
      ]
     },
     "execution_count": 18,
     "metadata": {},
     "output_type": "execute_result"
    },
    {
     "data": {
      "image/png": "[encoded data removed]",
      "text/plain": [
       "<matplotlib.figure.Figure at 0x1071da8d0>"
      ]
     },
     "metadata": {},
     "output_type": "display_data"
    }
   ],
   "source": [
    "heights.hist(bins=40, figsize=(16,4))\n",
    "plt.xlabel('Height')\n",
    "plt.ylabel('Count')"
   ]
  },
  {
   "cell_type": "markdown",
   "metadata": {},
   "source": [
    "Theory of the normal distribution here"
   ]
  },
  {
   "cell_type": "code",
   "execution_count": 19,
   "metadata": {
    "collapsed": false
   },
   "outputs": [
    {
     "data": {
      "image/png": "[encoded data removed]",
      "text/plain": [
       "<matplotlib.figure.Figure at 0x106f84860>"
      ]
     },
     "metadata": {},
     "output_type": "display_data"
    }
   ],
   "source": [
    "plot_standard_deviations(heights, 'Heights')"
   ]
  },
  {
   "cell_type": "code",
   "execution_count": 20,
   "metadata": {
    "collapsed": false
   },
   "outputs": [
    {
     "name": "stdout",
     "output_type": "stream",
     "text": [
      "75.25773% of the dataset is under 1 SDs from the mean (188)\n",
      "94.32990% of the dataset is under 2 SDs from the mean (207)\n",
      "96.39175% of the dataset is under 3 SDs from the mean (225)\n"
     ]
    }
   ],
   "source": [
    "print_analysis(heights)"
   ]
  },
  {
   "cell_type": "markdown",
   "metadata": {},
   "source": [
    "### Who is outside of 2 standard deviations? "
   ]
  },
  {
   "cell_type": "markdown",
   "metadata": {},
   "source": [
    "Under: "
   ]
  },
  {
   "cell_type": "code",
   "execution_count": 21,
   "metadata": {
    "collapsed": false
   },
   "outputs": [
    {
     "data": {
      "text/plain": [
       "QMAARXTCCQ     65.0\n",
       "VYIYVAVHOY    119.0\n",
       "RPXMEBIHPC    119.0\n",
       "WTWLZNEVPA    131.0\n",
       "Name: height, dtype: float64"
      ]
     },
     "execution_count": 21,
     "metadata": {},
     "output_type": "execute_result"
    }
   ],
   "source": [
    "heights[heights < heights.mean() - 2*heights.std()]"
   ]
  },
  {
   "cell_type": "markdown",
   "metadata": {},
   "source": [
    "Over: "
   ]
  },
  {
   "cell_type": "code",
   "execution_count": 22,
   "metadata": {
    "collapsed": false
   },
   "outputs": [
    {
     "data": {
      "text/plain": [
       "ZUMSOSOZUX    252.0\n",
       "XTGTMAUIMJ    235.0\n",
       "JFVZOEGUUA    208.0\n",
       "Name: height, dtype: float64"
      ]
     },
     "execution_count": 22,
     "metadata": {},
     "output_type": "execute_result"
    }
   ],
   "source": [
    "heights[heights > heights.mean() + 2*heights.std()]"
   ]
  },
  {
   "cell_type": "markdown",
   "metadata": {},
   "source": [
    "### And outside 3 standard deviations?"
   ]
  },
  {
   "cell_type": "markdown",
   "metadata": {},
   "source": [
    "Under: "
   ]
  },
  {
   "cell_type": "code",
   "execution_count": 23,
   "metadata": {
    "collapsed": false
   },
   "outputs": [
    {
     "data": {
      "text/plain": [
       "QMAARXTCCQ    65.0\n",
       "Name: height, dtype: float64"
      ]
     },
     "execution_count": 23,
     "metadata": {},
     "output_type": "execute_result"
    }
   ],
   "source": [
    "heights[heights < heights.mean() - 3*heights.std()]"
   ]
  },
  {
   "cell_type": "markdown",
   "metadata": {},
   "source": [
    "Over: "
   ]
  },
  {
   "cell_type": "code",
   "execution_count": 24,
   "metadata": {
    "collapsed": false
   },
   "outputs": [
    {
     "data": {
      "text/plain": [
       "ZUMSOSOZUX    252.0\n",
       "XTGTMAUIMJ    235.0\n",
       "Name: height, dtype: float64"
      ]
     },
     "execution_count": 24,
     "metadata": {},
     "output_type": "execute_result"
    }
   ],
   "source": [
    "heights[heights > heights.mean() + 3*heights.std()]"
   ]
  },
  {
   "cell_type": "markdown",
   "metadata": {},
   "source": [
    "### How about the ages? "
   ]
  },
  {
   "cell_type": "code",
   "execution_count": 25,
   "metadata": {
    "collapsed": false
   },
   "outputs": [
    {
     "data": {
      "text/plain": [
       "<matplotlib.text.Text at 0x10798e908>"
      ]
     },
     "execution_count": 25,
     "metadata": {},
     "output_type": "execute_result"
    },
    {
     "data": {
      "image/png": "[encoded data removed]",
      "text/plain": [
       "<matplotlib.figure.Figure at 0x10791a978>"
      ]
     },
     "metadata": {},
     "output_type": "display_data"
    }
   ],
   "source": [
    "ages.hist(bins=40, figsize=(16,4))\n",
    "plt.xlabel('Age')\n",
    "plt.ylabel('Count')"
   ]
  },
  {
   "cell_type": "code",
   "execution_count": 26,
   "metadata": {
    "collapsed": false
   },
   "outputs": [
    {
     "data": {
      "image/png": "[encoded data removed]",
      "text/plain": [
       "<matplotlib.figure.Figure at 0x107901c18>"
      ]
     },
     "metadata": {},
     "output_type": "display_data"
    }
   ],
   "source": [
    "plot_standard_deviations(ages, 'ages')"
   ]
  },
  {
   "cell_type": "code",
   "execution_count": 27,
   "metadata": {
    "collapsed": false
   },
   "outputs": [
    {
     "name": "stdout",
     "output_type": "stream",
     "text": [
      "94.84536% of the dataset is under 1 SDs from the mean (23678090)\n",
      "94.84536% of the dataset is under 2 SDs from the mean (45734526)\n",
      "94.84536% of the dataset is under 3 SDs from the mean (67790963)\n"
     ]
    }
   ],
   "source": [
    "print_analysis(ages)"
   ]
  },
  {
   "cell_type": "markdown",
   "metadata": {},
   "source": [
    "# Using the Standard Deviation makes assumptions about the distribution. "
   ]
  },
  {
   "cell_type": "markdown",
   "metadata": {},
   "source": [
    "### Let's try to solve this with other means... "
   ]
  },
  {
   "cell_type": "markdown",
   "metadata": {},
   "source": [
    "What's the biggest outlier we have? "
   ]
  },
  {
   "cell_type": "code",
   "execution_count": 28,
   "metadata": {
    "collapsed": false
   },
   "outputs": [
    {
     "data": {
      "text/plain": [
       "300000000.0"
      ]
     },
     "execution_count": 28,
     "metadata": {},
     "output_type": "execute_result"
    }
   ],
   "source": [
    "ages.max()"
   ]
  },
  {
   "cell_type": "markdown",
   "metadata": {},
   "source": [
    "What if we used percentiles? "
   ]
  },
  {
   "cell_type": "code",
   "execution_count": 29,
   "metadata": {
    "collapsed": true
   },
   "outputs": [],
   "source": [
    "extreme_value = .999"
   ]
  },
  {
   "cell_type": "code",
   "execution_count": 30,
   "metadata": {
    "collapsed": false
   },
   "outputs": [
    {
     "data": {
      "text/plain": [
       "244800041.21600926"
      ]
     },
     "execution_count": 30,
     "metadata": {},
     "output_type": "execute_result"
    }
   ],
   "source": [
    "ages.quantile(extreme_value)"
   ]
  },
  {
   "cell_type": "code",
   "execution_count": 31,
   "metadata": {
    "collapsed": true
   },
   "outputs": [],
   "source": [
    "under_extreme_value = ages < ages.quantile(extreme_value)"
   ]
  },
  {
   "cell_type": "markdown",
   "metadata": {},
   "source": [
    "Well this looks a lot more usable:"
   ]
  },
  {
   "cell_type": "code",
   "execution_count": 32,
   "metadata": {
    "collapsed": false
   },
   "outputs": [
    {
     "data": {
      "text/plain": [
       "<matplotlib.text.Text at 0x107c67ac8>"
      ]
     },
     "execution_count": 32,
     "metadata": {},
     "output_type": "execute_result"
    },
    {
     "data": {
      "image/png": "[encoded data removed]",
      "text/plain": [
       "<matplotlib.figure.Figure at 0x1078e9400>"
      ]
     },
     "metadata": {},
     "output_type": "display_data"
    }
   ],
   "source": [
    "ages[under_extreme_value].hist(bins=40, figsize=(16,4))\n",
    "plt.xlabel('Age')\n",
    "plt.ylabel('Count')"
   ]
  },
  {
   "cell_type": "code",
   "execution_count": 33,
   "metadata": {
    "collapsed": false
   },
   "outputs": [
    {
     "data": {
      "image/png": "[encoded data removed]",
      "text/plain": [
       "<matplotlib.figure.Figure at 0x106f84940>"
      ]
     },
     "metadata": {},
     "output_type": "display_data"
    }
   ],
   "source": [
    "plot_standard_deviations(ages[under_extreme_value], 'ages')"
   ]
  },
  {
   "cell_type": "code",
   "execution_count": 34,
   "metadata": {
    "collapsed": false
   },
   "outputs": [
    {
     "name": "stdout",
     "output_type": "stream",
     "text": [
      "86.41304% of the dataset is under 1 SDs from the mean (54)\n",
      "97.28261% of the dataset is under 2 SDs from the mean (76)\n",
      "98.36957% of the dataset is under 3 SDs from the mean (98)\n"
     ]
    }
   ],
   "source": [
    "print_analysis(ages[under_extreme_value])"
   ]
  },
  {
   "cell_type": "markdown",
   "metadata": {},
   "source": [
    "# TODO: \n",
    "- analyze the ages further "
   ]
  }
 ],
 "metadata": {
  "kernelspec": {
   "display_name": "Python 3",
   "language": "python",
   "name": "python3"
  },
  "language_info": {
   "codemirror_mode": {
    "name": "ipython",
    "version": 3
   },
   "file_extension": ".py",
   "mimetype": "text/x-python",
   "name": "python",
   "nbconvert_exporter": "python",
   "pygments_lexer": "ipython3",
   "version": "3.4.3"
  }
 },
 "nbformat": 4,
 "nbformat_minor": 1
}
